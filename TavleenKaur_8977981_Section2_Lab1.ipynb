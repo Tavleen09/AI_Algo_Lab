{
 "cells": [
  {
   "cell_type": "markdown",
   "metadata": {},
   "source": [
    "# 1. Create an array that starts from 1, ends at 20, incremented by 3"
   ]
  },
  {
   "cell_type": "code",
   "execution_count": 1,
   "metadata": {},
   "outputs": [
    {
     "name": "stdout",
     "output_type": "stream",
     "text": [
      "Array 1: [ 1  4  7 10 13 16 19]\n"
     ]
    }
   ],
   "source": [
    "import numpy as np\n",
    "\n",
    "arr1 = np.arange(1, 21, 3)\n",
    "print(\"Array 1:\", arr1)"
   ]
  },
  {
   "cell_type": "markdown",
   "metadata": {},
   "source": [
    "# 2. Create a new array of shape 3 with random numbers between 0 and 1"
   ]
  },
  {
   "cell_type": "code",
   "execution_count": 2,
   "metadata": {},
   "outputs": [
    {
     "name": "stdout",
     "output_type": "stream",
     "text": [
      "Array 2: [0.66534861 0.1979538  0.51230882]\n"
     ]
    }
   ],
   "source": [
    "arr2 = np.random.rand(3)\n",
    "print(\"Array 2:\", arr2)"
   ]
  },
  {
   "cell_type": "markdown",
   "metadata": {},
   "source": [
    "# 3. Create a 2D array and perform slicing operations"
   ]
  },
  {
   "cell_type": "code",
   "execution_count": 3,
   "metadata": {},
   "outputs": [
    {
     "name": "stdout",
     "output_type": "stream",
     "text": [
      "Original 2D Array:\n",
      "[[10 20 45]\n",
      " [30 12 16]\n",
      " [42 17 56]]\n",
      "First two rows:\n",
      "[[10 20 45]\n",
      " [30 12 16]]\n",
      "Last two rows:\n",
      "[[30 12 16]\n",
      " [42 17 56]]\n"
     ]
    }
   ],
   "source": [
    "arr3 = np.array([[10, 20, 45], [30, 12, 16], [42, 17, 56]])\n",
    "\n",
    "arr3 = np.array([[10, 20, 45], [30, 12, 16], [42, 17, 56]])\n",
    "print(\"Original 2D Array:\")\n",
    "print(arr3)\n",
    "\n",
    "# Slicing to get the first two rows\n",
    "print(\"First two rows:\")\n",
    "print(arr3[:2])\n",
    "\n",
    "# Slicing to get the last two rows\n",
    "print(\"Last two rows:\")\n",
    "print(arr3[1:])"
   ]
  },
  {
   "cell_type": "markdown",
   "metadata": {},
   "source": [
    "# 4. Create two 2x2 arrays and demonstrate stacking and splitting\n"
   ]
  },
  {
   "cell_type": "code",
   "execution_count": 4,
   "metadata": {},
   "outputs": [
    {
     "name": "stdout",
     "output_type": "stream",
     "text": [
      "Stack vertically:\n",
      "[[1 2]\n",
      " [3 4]\n",
      " [5 6]\n",
      " [7 8]]\n",
      "Stack horizontally:\n",
      "[[1 2 5 6]\n",
      " [3 4 7 8]]\n",
      "Split horizontally:\n",
      "[array([[1],\n",
      "       [3]]), array([[2],\n",
      "       [4]])]\n"
     ]
    }
   ],
   "source": [
    "arr4 = np.array([[1, 2], [3, 4]])\n",
    "arr5 = np.array([[5, 6], [7, 8]])\n",
    "\n",
    "# Stack vertically\n",
    "print(\"Stack vertically:\")\n",
    "print(np.vstack((arr4, arr5)))\n",
    "\n",
    "# Stack horizontally\n",
    "print(\"Stack horizontally:\")\n",
    "print(np.hstack((arr4, arr5)))\n",
    "\n",
    "# Split arrays\n",
    "print(\"Split horizontally:\")\n",
    "print(np.hsplit(arr4, 2))"
   ]
  },
  {
   "cell_type": "markdown",
   "metadata": {},
   "source": [
    "# 5. Perform Matrix operations"
   ]
  },
  {
   "cell_type": "code",
   "execution_count": 5,
   "metadata": {},
   "outputs": [
    {
     "name": "stdout",
     "output_type": "stream",
     "text": [
      "Matrix multiplication:\n",
      "[[70 28]\n",
      " [70 30]\n",
      " [60 26]]\n"
     ]
    }
   ],
   "source": [
    "# 5. Matrix operations\n",
    "X = np.array([[5, 7, 2], [4, 5, 6], [7, 4, 2]])\n",
    "Y = np.array([[4, 2], [6, 2], [4, 2]])\n",
    "\n",
    "# Matrix multiplication\n",
    "print(\"Matrix multiplication:\")\n",
    "try:\n",
    "    print(np.dot(X, Y))\n",
    "except ValueError:\n",
    "    print(\"Matrix dimensions incompatible for multiplication.\")\n",
    "\n",
    "\n"
   ]
  },
  {
   "cell_type": "markdown",
   "metadata": {},
   "source": [
    "# 6. Vector operations and reshaping:"
   ]
  },
  {
   "cell_type": "code",
   "execution_count": 6,
   "metadata": {},
   "outputs": [
    {
     "name": "stdout",
     "output_type": "stream",
     "text": [
      "Shape of x: (3,)\n",
      "Dimensions of x: 1\n",
      "Reshaped x: [[ 2]\n",
      " [-1]\n",
      " [-8]]\n",
      "Dimensions of reshaped x: 2\n",
      "Reshaped y: [[ 3]\n",
      " [ 1]\n",
      " [-2]]\n",
      "Dimensions of reshaped y: 2\n"
     ]
    }
   ],
   "source": [
    "x = np.array([2, -1, -8])\n",
    "y = np.array([3, 1, -2])\n",
    "\n",
    "# Shape and dimensions\n",
    "print(\"Shape of x:\", x.shape)\n",
    "print(\"Dimensions of x:\", x.ndim)\n",
    "\n",
    "# Reshape\n",
    "x_reshaped = x.reshape((3, 1))\n",
    "y_reshaped = y.reshape((3, 1))\n",
    "print(\"Reshaped x:\", x_reshaped)\n",
    "print(\"Dimensions of reshaped x:\", x_reshaped.ndim)\n",
    "print(\"Reshaped y:\", y_reshaped)\n",
    "print(\"Dimensions of reshaped y:\", y_reshaped.ndim)\n"
   ]
  },
  {
   "cell_type": "markdown",
   "metadata": {},
   "source": [
    "# 7. How does broadcasting work? Demonstrate the subtraction, multiplication by considering a 3 x 3 matrix."
   ]
  },
  {
   "cell_type": "code",
   "execution_count": 7,
   "metadata": {},
   "outputs": [
    {
     "name": "stdout",
     "output_type": "stream",
     "text": [
      "Broadcasting in subtraction:\n",
      "[[0 2 2]\n",
      " [3 5 5]\n",
      " [6 8 8]]\n",
      "Broadcasting in multiplication:\n",
      "[[0 1 2]\n",
      " [0 2 4]\n",
      " [0 3 6]]\n"
     ]
    }
   ],
   "source": [
    "# Broadcasting in subtraction\n",
    "a = np.array([[1, 2, 3], [4, 5, 6], [7, 8, 9]])\n",
    "b = np.array([1, 0, 1])\n",
    "print(\"Broadcasting in subtraction:\")\n",
    "print(a - b)\n",
    "\n",
    "# Broadcasting in multiplication\n",
    "c = np.array([[1], [2], [3]])\n",
    "d = np.array([0, 1, 2])\n",
    "print(\"Broadcasting in multiplication:\")\n",
    "print(c * d)"
   ]
  }
 ],
 "metadata": {
  "kernelspec": {
   "display_name": "CSCN8010_classic_ml",
   "language": "python",
   "name": "python3"
  },
  "language_info": {
   "codemirror_mode": {
    "name": "ipython",
    "version": 3
   },
   "file_extension": ".py",
   "mimetype": "text/x-python",
   "name": "python",
   "nbconvert_exporter": "python",
   "pygments_lexer": "ipython3",
   "version": "3.11.7"
  }
 },
 "nbformat": 4,
 "nbformat_minor": 2
}
